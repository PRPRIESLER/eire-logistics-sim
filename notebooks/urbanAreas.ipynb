{
 "cells": [
  {
   "cell_type": "code",
   "execution_count": null,
   "id": "b60fa7bc",
   "metadata": {},
   "outputs": [],
   "source": []
  },
  {
   "cell_type": "code",
   "execution_count": null,
   "id": "a34d485c",
   "metadata": {},
   "outputs": [],
   "source": []
  },
  {
   "cell_type": "markdown",
   "id": "38713f6e",
   "metadata": {},
   "source": [
    "## Imports"
   ]
  },
  {
   "cell_type": "code",
   "execution_count": 3,
   "id": "e5e6d44a",
   "metadata": {},
   "outputs": [],
   "source": [
    "import geopandas as gpd\n",
    "from shapely.geometry import Point\n",
    "import random\n",
    "import pandas as pd"
   ]
  },
  {
   "cell_type": "markdown",
   "id": "21261e2c",
   "metadata": {},
   "source": [
    "## Urban Areas GeoJSON file Read"
   ]
  },
  {
   "cell_type": "code",
   "execution_count": 4,
   "id": "e1f3757f",
   "metadata": {},
   "outputs": [],
   "source": [
    "urban_areas = gpd.read_file(\"../data/Urban_Areas_National_Statistical_Boundaries_2022_Ungeneralised_View_6867301564302593317.geojson\")"
   ]
  },
  {
   "cell_type": "code",
   "execution_count": 5,
   "id": "9ad01b74",
   "metadata": {},
   "outputs": [
    {
     "name": "stdout",
     "output_type": "stream",
     "text": [
      "Index(['OBJECTID', 'URBAN_AREA_GUID', 'URBAN_AREA_CODE', 'URBAN_AREA_NAME',\n",
      "       'COUNTY', 'Centroid_x', 'Centroid_y', 'geometry'],\n",
      "      dtype='object')\n"
     ]
    }
   ],
   "source": [
    "# Quick look at available columns\n",
    "print(urban_areas.columns)"
   ]
  },
  {
   "cell_type": "code",
   "execution_count": 8,
   "id": "d7598e68",
   "metadata": {},
   "outputs": [
    {
     "data": {
      "text/html": [
       "<div>\n",
       "<style scoped>\n",
       "    .dataframe tbody tr th:only-of-type {\n",
       "        vertical-align: middle;\n",
       "    }\n",
       "\n",
       "    .dataframe tbody tr th {\n",
       "        vertical-align: top;\n",
       "    }\n",
       "\n",
       "    .dataframe thead th {\n",
       "        text-align: right;\n",
       "    }\n",
       "</style>\n",
       "<table border=\"1\" class=\"dataframe\">\n",
       "  <thead>\n",
       "    <tr style=\"text-align: right;\">\n",
       "      <th></th>\n",
       "      <th>OBJECTID</th>\n",
       "      <th>URBAN_AREA_GUID</th>\n",
       "      <th>URBAN_AREA_CODE</th>\n",
       "      <th>URBAN_AREA_NAME</th>\n",
       "      <th>COUNTY</th>\n",
       "      <th>Centroid_x</th>\n",
       "      <th>Centroid_y</th>\n",
       "      <th>geometry</th>\n",
       "    </tr>\n",
       "  </thead>\n",
       "  <tbody>\n",
       "    <tr>\n",
       "      <th>0</th>\n",
       "      <td>1</td>\n",
       "      <td>0138fb4f-2ab8-4035-8287-7f13bb3b3de6</td>\n",
       "      <td>27295</td>\n",
       "      <td>Bearna</td>\n",
       "      <td>Galway</td>\n",
       "      <td>522593.204561</td>\n",
       "      <td>723181.979819</td>\n",
       "      <td>POLYGON ((-9.17177 53.26583, -9.1716 53.26553,...</td>\n",
       "    </tr>\n",
       "    <tr>\n",
       "      <th>1</th>\n",
       "      <td>2</td>\n",
       "      <td>0139a442-0f36-46dc-b383-2a34d4d3f6f7</td>\n",
       "      <td>10019</td>\n",
       "      <td>Ardee</td>\n",
       "      <td>Louth</td>\n",
       "      <td>696152.155347</td>\n",
       "      <td>790695.313556</td>\n",
       "      <td>POLYGON ((-6.52932 53.86812, -6.52927 53.86794...</td>\n",
       "    </tr>\n",
       "    <tr>\n",
       "      <th>2</th>\n",
       "      <td>3</td>\n",
       "      <td>020a2786-0521-445e-bf50-e3a24632bab1</td>\n",
       "      <td>28125</td>\n",
       "      <td>Ballinamore</td>\n",
       "      <td>Leitrim</td>\n",
       "      <td>613071.607110</td>\n",
       "      <td>811532.546151</td>\n",
       "      <td>POLYGON ((-7.7949 54.05975, -7.79486 54.05971,...</td>\n",
       "    </tr>\n",
       "    <tr>\n",
       "      <th>3</th>\n",
       "      <td>4</td>\n",
       "      <td>0261d090-30b7-406d-9f7a-e69a0c6e6239</td>\n",
       "      <td>11408</td>\n",
       "      <td>Ratoath</td>\n",
       "      <td>Meath</td>\n",
       "      <td>701909.103785</td>\n",
       "      <td>751650.842556</td>\n",
       "      <td>POLYGON ((-6.45573 53.51625, -6.45546 53.51616...</td>\n",
       "    </tr>\n",
       "    <tr>\n",
       "      <th>4</th>\n",
       "      <td>5</td>\n",
       "      <td>0265ada6-7078-45da-afb0-ac001ca276b1</td>\n",
       "      <td>16544</td>\n",
       "      <td>O'Briensbridge-Montpelier</td>\n",
       "      <td>Clare</td>\n",
       "      <td>566174.956058</td>\n",
       "      <td>666640.253476</td>\n",
       "      <td>POLYGON ((-8.49436 52.75419, -8.49428 52.75418...</td>\n",
       "    </tr>\n",
       "  </tbody>\n",
       "</table>\n",
       "</div>"
      ],
      "text/plain": [
       "   OBJECTID                       URBAN_AREA_GUID URBAN_AREA_CODE  \\\n",
       "0         1  0138fb4f-2ab8-4035-8287-7f13bb3b3de6           27295   \n",
       "1         2  0139a442-0f36-46dc-b383-2a34d4d3f6f7           10019   \n",
       "2         3  020a2786-0521-445e-bf50-e3a24632bab1           28125   \n",
       "3         4  0261d090-30b7-406d-9f7a-e69a0c6e6239           11408   \n",
       "4         5  0265ada6-7078-45da-afb0-ac001ca276b1           16544   \n",
       "\n",
       "             URBAN_AREA_NAME   COUNTY     Centroid_x     Centroid_y  \\\n",
       "0                     Bearna   Galway  522593.204561  723181.979819   \n",
       "1                      Ardee    Louth  696152.155347  790695.313556   \n",
       "2                Ballinamore  Leitrim  613071.607110  811532.546151   \n",
       "3                    Ratoath    Meath  701909.103785  751650.842556   \n",
       "4  O'Briensbridge-Montpelier    Clare  566174.956058  666640.253476   \n",
       "\n",
       "                                            geometry  \n",
       "0  POLYGON ((-9.17177 53.26583, -9.1716 53.26553,...  \n",
       "1  POLYGON ((-6.52932 53.86812, -6.52927 53.86794...  \n",
       "2  POLYGON ((-7.7949 54.05975, -7.79486 54.05971,...  \n",
       "3  POLYGON ((-6.45573 53.51625, -6.45546 53.51616...  \n",
       "4  POLYGON ((-8.49436 52.75419, -8.49428 52.75418...  "
      ]
     },
     "execution_count": 8,
     "metadata": {},
     "output_type": "execute_result"
    }
   ],
   "source": [
    "urban_areas.head()"
   ]
  },
  {
   "cell_type": "code",
   "execution_count": 11,
   "id": "6245646e",
   "metadata": {},
   "outputs": [
    {
     "data": {
      "text/plain": [
       "0"
      ]
     },
     "execution_count": 11,
     "metadata": {},
     "output_type": "execute_result"
    }
   ],
   "source": [
    "urban_areas['URBAN_AREA_NAME']"
   ]
  },
  {
   "cell_type": "markdown",
   "id": "31afb7cd",
   "metadata": {},
   "source": [
    "## Considering Major Cities\n",
    "> Grabbing **5 major cities** for now (Simplicity's sake)\n",
    "- Dublin city and suburbs\n",
    "- Cork city and suburbs\n",
    "- Limerick city and suburbs\n",
    "- Galway city and suburbs\n",
    "- Waterford city and suburbs"
   ]
  },
  {
   "cell_type": "code",
   "execution_count": 12,
   "id": "5040464b",
   "metadata": {},
   "outputs": [
    {
     "name": "stderr",
     "output_type": "stream",
     "text": [
      "C:\\Users\\mkuma\\anaconda3\\envs\\masters\\Lib\\site-packages\\geopandas\\geodataframe.py:1968: SettingWithCopyWarning: \n",
      "A value is trying to be set on a copy of a slice from a DataFrame.\n",
      "Try using .loc[row_indexer,col_indexer] = value instead\n",
      "\n",
      "See the caveats in the documentation: https://pandas.pydata.org/pandas-docs/stable/user_guide/indexing.html#returning-a-view-versus-a-copy\n",
      "  super().__setitem__(key, value)\n"
     ]
    }
   ],
   "source": [
    "major_cities = [\n",
    "    'Dublin city and suburbs',\n",
    "    'Cork city and suburbs',\n",
    "    'Limerick city and suburbs',\n",
    "    'Galway city and suburbs',\n",
    "    'Waterford city and suburbs'\n",
    "]\n",
    "\n",
    "urban_areas = urban_areas[urban_areas['URBAN_AREA_NAME'].isin(major_cities)]\n",
    "\n",
    "city_weights = {\n",
    "    'Dublin city and suburbs': 0.40,\n",
    "    'Cork city and suburbs': 0.15,\n",
    "    'Limerick city and suburbs': 0.10,\n",
    "    'Galway city and suburbs': 0.10,\n",
    "    'Waterford city and suburbs': 0.05\n",
    "}\n",
    "\n",
    "urban_areas['weight'] = urban_areas['URBAN_AREA_NAME'].map(city_weights).fillna(0.01)"
   ]
  },
  {
   "cell_type": "code",
   "execution_count": null,
   "id": "eb25f8af",
   "metadata": {},
   "outputs": [],
   "source": []
  },
  {
   "cell_type": "markdown",
   "id": "ab5e3832",
   "metadata": {},
   "source": [
    "## Grabbing random locations using population as weights\n",
    "\n",
    "> Using population to dictate the number of locations to grab from each city"
   ]
  },
  {
   "cell_type": "code",
   "execution_count": 13,
   "id": "f45a9bb2",
   "metadata": {},
   "outputs": [],
   "source": [
    "# Helper function to sample point inside polygon\n",
    "def sample_point_within(polygon):\n",
    "    minx, miny, maxx, maxy = polygon.bounds\n",
    "    while True:\n",
    "        p = Point(random.uniform(minx, maxx), random.uniform(miny, maxy))\n",
    "        if polygon.contains(p):\n",
    "            return p\n"
   ]
  },
  {
   "cell_type": "code",
   "execution_count": 16,
   "id": "0fe07f21",
   "metadata": {},
   "outputs": [],
   "source": [
    "# Generate delivery points\n",
    "def generate_delivery_points(n=1000):\n",
    "    samples = []\n",
    "    weights = urban_areas['weight'].values\n",
    "    normalized_weights = weights / weights.sum()\n",
    "\n",
    "    for _ in range(n):\n",
    "        region = urban_areas.sample(weights=normalized_weights).iloc[0]\n",
    "        city = region['URBAN_AREA_NAME']\n",
    "        polygon = region.geometry\n",
    "        point = sample_point_within(polygon)\n",
    "        samples.append({\n",
    "            'city': city,\n",
    "            'lat': point.y,\n",
    "            'lon': point.x\n",
    "        })\n",
    "    return pd.DataFrame(samples)"
   ]
  },
  {
   "cell_type": "code",
   "execution_count": 17,
   "id": "984ef55c",
   "metadata": {},
   "outputs": [],
   "source": [
    "# Generate 1000 delivery points\n",
    "df_points = generate_delivery_points(1000)\n",
    "\n",
    "# Save to CSV (optional)\n",
    "df_points.to_csv(\"smart_delivery_points.csv\", index=False)"
   ]
  },
  {
   "cell_type": "markdown",
   "id": "4b52423b",
   "metadata": {},
   "source": [
    "# STEP 1: Randomly Pair Points (Origin ↔ Destination)"
   ]
  },
  {
   "cell_type": "code",
   "execution_count": 18,
   "id": "5949328a",
   "metadata": {},
   "outputs": [
    {
     "data": {
      "text/html": [
       "<div>\n",
       "<style scoped>\n",
       "    .dataframe tbody tr th:only-of-type {\n",
       "        vertical-align: middle;\n",
       "    }\n",
       "\n",
       "    .dataframe tbody tr th {\n",
       "        vertical-align: top;\n",
       "    }\n",
       "\n",
       "    .dataframe thead th {\n",
       "        text-align: right;\n",
       "    }\n",
       "</style>\n",
       "<table border=\"1\" class=\"dataframe\">\n",
       "  <thead>\n",
       "    <tr style=\"text-align: right;\">\n",
       "      <th></th>\n",
       "      <th>origin_city</th>\n",
       "      <th>origin_lat</th>\n",
       "      <th>origin_lon</th>\n",
       "      <th>dest_city</th>\n",
       "      <th>dest_lat</th>\n",
       "      <th>dest_lon</th>\n",
       "    </tr>\n",
       "  </thead>\n",
       "  <tbody>\n",
       "    <tr>\n",
       "      <th>0</th>\n",
       "      <td>Dublin city and suburbs</td>\n",
       "      <td>53.276699</td>\n",
       "      <td>-6.150429</td>\n",
       "      <td>Dublin city and suburbs</td>\n",
       "      <td>53.260513</td>\n",
       "      <td>-6.129931</td>\n",
       "    </tr>\n",
       "    <tr>\n",
       "      <th>1</th>\n",
       "      <td>Dublin city and suburbs</td>\n",
       "      <td>53.396304</td>\n",
       "      <td>-6.299107</td>\n",
       "      <td>Limerick city and suburbs</td>\n",
       "      <td>52.666091</td>\n",
       "      <td>-8.684511</td>\n",
       "    </tr>\n",
       "    <tr>\n",
       "      <th>2</th>\n",
       "      <td>Galway city and suburbs</td>\n",
       "      <td>53.261758</td>\n",
       "      <td>-9.100766</td>\n",
       "      <td>Cork city and suburbs</td>\n",
       "      <td>51.927540</td>\n",
       "      <td>-8.529792</td>\n",
       "    </tr>\n",
       "    <tr>\n",
       "      <th>3</th>\n",
       "      <td>Dublin city and suburbs</td>\n",
       "      <td>53.321108</td>\n",
       "      <td>-6.222912</td>\n",
       "      <td>Dublin city and suburbs</td>\n",
       "      <td>53.378718</td>\n",
       "      <td>-6.163126</td>\n",
       "    </tr>\n",
       "    <tr>\n",
       "      <th>4</th>\n",
       "      <td>Waterford city and suburbs</td>\n",
       "      <td>52.236297</td>\n",
       "      <td>-7.034926</td>\n",
       "      <td>Galway city and suburbs</td>\n",
       "      <td>53.257949</td>\n",
       "      <td>-9.092321</td>\n",
       "    </tr>\n",
       "  </tbody>\n",
       "</table>\n",
       "</div>"
      ],
      "text/plain": [
       "                  origin_city  origin_lat  origin_lon  \\\n",
       "0     Dublin city and suburbs   53.276699   -6.150429   \n",
       "1     Dublin city and suburbs   53.396304   -6.299107   \n",
       "2     Galway city and suburbs   53.261758   -9.100766   \n",
       "3     Dublin city and suburbs   53.321108   -6.222912   \n",
       "4  Waterford city and suburbs   52.236297   -7.034926   \n",
       "\n",
       "                   dest_city   dest_lat  dest_lon  \n",
       "0    Dublin city and suburbs  53.260513 -6.129931  \n",
       "1  Limerick city and suburbs  52.666091 -8.684511  \n",
       "2      Cork city and suburbs  51.927540 -8.529792  \n",
       "3    Dublin city and suburbs  53.378718 -6.163126  \n",
       "4    Galway city and suburbs  53.257949 -9.092321  "
      ]
     },
     "execution_count": 18,
     "metadata": {},
     "output_type": "execute_result"
    }
   ],
   "source": [
    "import pandas as pd\n",
    "\n",
    "# Load your generated points\n",
    "df_points = pd.read_csv(\"smart_delivery_points.csv\")\n",
    "\n",
    "# Randomly shuffled origins and destinations\n",
    "df_origins = df_points.sample(frac=1).reset_index(drop=True)\n",
    "df_destinations = df_points.sample(frac=1).reset_index(drop=True)\n",
    "\n",
    "# Combine into trips\n",
    "df_trips = pd.DataFrame({\n",
    "    \"origin_city\": df_origins[\"city\"],\n",
    "    \"origin_lat\": df_origins[\"lat\"],\n",
    "    \"origin_lon\": df_origins[\"lon\"],\n",
    "    \"dest_city\": df_destinations[\"city\"],\n",
    "    \"dest_lat\": df_destinations[\"lat\"],\n",
    "    \"dest_lon\": df_destinations[\"lon\"]\n",
    "})\n",
    "\n",
    "df_trips.head()"
   ]
  },
  {
   "cell_type": "markdown",
   "id": "2fe5e022",
   "metadata": {},
   "source": [
    "# Route Each Trip with OSRM"
   ]
  },
  {
   "cell_type": "code",
   "execution_count": 19,
   "id": "6e679f64",
   "metadata": {},
   "outputs": [
    {
     "name": "stdout",
     "output_type": "stream",
     "text": [
      "Routed 0 trips...\n",
      "Routed 100 trips...\n",
      "Routed 200 trips...\n",
      "Routed 300 trips...\n",
      "Routed 400 trips...\n",
      "Routed 500 trips...\n",
      "Routed 600 trips...\n",
      "Routed 700 trips...\n",
      "Routed 800 trips...\n",
      "Routed 900 trips...\n"
     ]
    }
   ],
   "source": [
    "import requests\n",
    "import time\n",
    "\n",
    "def get_osrm_route(origin_lat, origin_lon, dest_lat, dest_lon):\n",
    "    url = f\"http://localhost:5000/route/v1/driving/{origin_lon},{origin_lat};{dest_lon},{dest_lat}?overview=false\"\n",
    "    try:\n",
    "        response = requests.get(url)\n",
    "        response.raise_for_status()\n",
    "        data = response.json()\n",
    "        route = data['routes'][0]\n",
    "        return route['duration'], route['distance']\n",
    "    except Exception as e:\n",
    "        print(f\"Routing failed: {e}\")\n",
    "        return None, None\n",
    "\n",
    "# Add OSRM data to each trip\n",
    "durations = []\n",
    "distances = []\n",
    "\n",
    "for i, row in df_trips.iterrows():\n",
    "    dur, dist = get_osrm_route(\n",
    "        row[\"origin_lat\"], row[\"origin_lon\"],\n",
    "        row[\"dest_lat\"], row[\"dest_lon\"]\n",
    "    )\n",
    "    durations.append(dur)\n",
    "    distances.append(dist)\n",
    "    \n",
    "    if i % 100 == 0:\n",
    "        print(f\"Routed {i} trips...\")\n",
    "        time.sleep(0.1)  # Prevent spamming OSRM\n",
    "\n",
    "df_trips[\"duration_sec\"] = durations\n",
    "df_trips[\"distance_m\"] = distances\n"
   ]
  },
  {
   "cell_type": "markdown",
   "id": "447f32af",
   "metadata": {},
   "source": [
    "## Let's check the routes and possible failures"
   ]
  },
  {
   "cell_type": "code",
   "execution_count": 20,
   "id": "5b613260",
   "metadata": {},
   "outputs": [
    {
     "data": {
      "text/html": [
       "<div>\n",
       "<style scoped>\n",
       "    .dataframe tbody tr th:only-of-type {\n",
       "        vertical-align: middle;\n",
       "    }\n",
       "\n",
       "    .dataframe tbody tr th {\n",
       "        vertical-align: top;\n",
       "    }\n",
       "\n",
       "    .dataframe thead th {\n",
       "        text-align: right;\n",
       "    }\n",
       "</style>\n",
       "<table border=\"1\" class=\"dataframe\">\n",
       "  <thead>\n",
       "    <tr style=\"text-align: right;\">\n",
       "      <th></th>\n",
       "      <th>origin_city</th>\n",
       "      <th>origin_lat</th>\n",
       "      <th>origin_lon</th>\n",
       "      <th>dest_city</th>\n",
       "      <th>dest_lat</th>\n",
       "      <th>dest_lon</th>\n",
       "      <th>duration_sec</th>\n",
       "      <th>distance_m</th>\n",
       "    </tr>\n",
       "  </thead>\n",
       "  <tbody>\n",
       "    <tr>\n",
       "      <th>0</th>\n",
       "      <td>Dublin city and suburbs</td>\n",
       "      <td>53.276699</td>\n",
       "      <td>-6.150429</td>\n",
       "      <td>Dublin city and suburbs</td>\n",
       "      <td>53.260513</td>\n",
       "      <td>-6.129931</td>\n",
       "      <td>256.2</td>\n",
       "      <td>2513.5</td>\n",
       "    </tr>\n",
       "    <tr>\n",
       "      <th>1</th>\n",
       "      <td>Dublin city and suburbs</td>\n",
       "      <td>53.396304</td>\n",
       "      <td>-6.299107</td>\n",
       "      <td>Limerick city and suburbs</td>\n",
       "      <td>52.666091</td>\n",
       "      <td>-8.684511</td>\n",
       "      <td>8623.8</td>\n",
       "      <td>210995.4</td>\n",
       "    </tr>\n",
       "    <tr>\n",
       "      <th>2</th>\n",
       "      <td>Galway city and suburbs</td>\n",
       "      <td>53.261758</td>\n",
       "      <td>-9.100766</td>\n",
       "      <td>Cork city and suburbs</td>\n",
       "      <td>51.927540</td>\n",
       "      <td>-8.529792</td>\n",
       "      <td>9313.3</td>\n",
       "      <td>195700.6</td>\n",
       "    </tr>\n",
       "    <tr>\n",
       "      <th>3</th>\n",
       "      <td>Dublin city and suburbs</td>\n",
       "      <td>53.321108</td>\n",
       "      <td>-6.222912</td>\n",
       "      <td>Dublin city and suburbs</td>\n",
       "      <td>53.378718</td>\n",
       "      <td>-6.163126</td>\n",
       "      <td>1195.7</td>\n",
       "      <td>11757.9</td>\n",
       "    </tr>\n",
       "    <tr>\n",
       "      <th>4</th>\n",
       "      <td>Waterford city and suburbs</td>\n",
       "      <td>52.236297</td>\n",
       "      <td>-7.034926</td>\n",
       "      <td>Galway city and suburbs</td>\n",
       "      <td>53.257949</td>\n",
       "      <td>-9.092321</td>\n",
       "      <td>12160.9</td>\n",
       "      <td>231812.6</td>\n",
       "    </tr>\n",
       "  </tbody>\n",
       "</table>\n",
       "</div>"
      ],
      "text/plain": [
       "                  origin_city  origin_lat  origin_lon  \\\n",
       "0     Dublin city and suburbs   53.276699   -6.150429   \n",
       "1     Dublin city and suburbs   53.396304   -6.299107   \n",
       "2     Galway city and suburbs   53.261758   -9.100766   \n",
       "3     Dublin city and suburbs   53.321108   -6.222912   \n",
       "4  Waterford city and suburbs   52.236297   -7.034926   \n",
       "\n",
       "                   dest_city   dest_lat  dest_lon  duration_sec  distance_m  \n",
       "0    Dublin city and suburbs  53.260513 -6.129931         256.2      2513.5  \n",
       "1  Limerick city and suburbs  52.666091 -8.684511        8623.8    210995.4  \n",
       "2      Cork city and suburbs  51.927540 -8.529792        9313.3    195700.6  \n",
       "3    Dublin city and suburbs  53.378718 -6.163126        1195.7     11757.9  \n",
       "4    Galway city and suburbs  53.257949 -9.092321       12160.9    231812.6  "
      ]
     },
     "execution_count": 20,
     "metadata": {},
     "output_type": "execute_result"
    }
   ],
   "source": [
    "df_trips.head()"
   ]
  },
  {
   "cell_type": "code",
   "execution_count": 21,
   "id": "4adab5c6",
   "metadata": {},
   "outputs": [
    {
     "name": "stdout",
     "output_type": "stream",
     "text": [
      "0\n",
      "0\n"
     ]
    }
   ],
   "source": [
    "print(df_trips[\"duration_sec\"].isnull().sum())\n",
    "print(df_trips[\"distance_m\"].isnull().sum())\n"
   ]
  },
  {
   "cell_type": "code",
   "execution_count": null,
   "id": "b2e37894",
   "metadata": {},
   "outputs": [],
   "source": []
  }
 ],
 "metadata": {
  "kernelspec": {
   "display_name": "masters",
   "language": "python",
   "name": "masters"
  },
  "language_info": {
   "codemirror_mode": {
    "name": "ipython",
    "version": 3
   },
   "file_extension": ".py",
   "mimetype": "text/x-python",
   "name": "python",
   "nbconvert_exporter": "python",
   "pygments_lexer": "ipython3",
   "version": "3.11.5"
  }
 },
 "nbformat": 4,
 "nbformat_minor": 5
}
